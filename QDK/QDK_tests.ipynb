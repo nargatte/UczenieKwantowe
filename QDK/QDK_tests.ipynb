{
 "cells": [
  {
   "cell_type": "code",
   "execution_count": null,
   "metadata": {},
   "outputs": [],
   "source": [
    "open Microsoft.Quantum.Canon;\n",
    "open Microsoft.Quantum.Intrinsic;\n",
    "\n",
    "@EntryPoint()\n",
    "\n",
    "operation SetQubitState(desired : Result, target : Qubit) : Unit {\n",
    "    if desired != M(target) {\n",
    "        X(target);\n",
    "    }\n",
    "}\n",
    "\n",
    "operation SayHelloQ() : Unit {\n",
    "    Message(\"Hello quantum world!\");\n",
    "    mutable numOnesQ1 = 0;\n",
    "    use q = Qubit();\n",
    "    for test in 1..count {\n",
    "        SetQubitState(Zero, q1);\n",
    "        let resultQ1 = M(q1);\n",
    "        if resultQ1 == One {\n",
    "            set numOnesQ1 += 1;\n",
    "        }\n",
    "    }\n",
    "}"
   ]
  },
  {
   "cell_type": "code",
   "execution_count": 7,
   "metadata": {},
   "outputs": [
    {
     "data": {
      "application/x-qsharp-data": "{\"LastUpdated\":\"2022-05-24T20:35:00.5810793+02:00\",\"IsCompleted\":true,\"Description\":\"Adding package Microsoft.Quantum.Numerics\",\"Subtask\":\"done\"}",
      "text/plain": [
       "Adding package Microsoft.Quantum.Numerics: done!"
      ]
     },
     "metadata": {},
     "output_type": "display_data"
    },
    {
     "data": {
      "application/x-qsharp-data": "[\"Microsoft.Quantum.Standard::0.24.208024\",\"Microsoft.Quantum.Standard.Visualization::0.24.208024\",\"Microsoft.Quantum.Numerics::0.24.208024\"]",
      "text/html": [
       "<ul><li>Microsoft.Quantum.Standard::0.24.208024</li><li>Microsoft.Quantum.Standard.Visualization::0.24.208024</li><li>Microsoft.Quantum.Numerics::0.24.208024</li></ul>"
      ],
      "text/plain": [
       "Microsoft.Quantum.Standard::0.24.208024, Microsoft.Quantum.Standard.Visualization::0.24.208024, Microsoft.Quantum.Numerics::0.24.208024"
      ]
     },
     "execution_count": 7,
     "metadata": {},
     "output_type": "execute_result"
    }
   ],
   "source": [
    "%package Microsoft.Quantum.Numerics"
   ]
  },
  {
   "cell_type": "code",
   "execution_count": 2,
   "metadata": {},
   "outputs": [
    {
     "data": {
      "application/x-qsharp-data": "[\"TestNumberOfQubits\"]",
      "text/html": [
       "<ul><li>TestNumberOfQubits</li></ul>"
      ],
      "text/plain": [
       "TestNumberOfQubits"
      ]
     },
     "execution_count": 2,
     "metadata": {},
     "output_type": "execute_result"
    }
   ],
   "source": [
    "operation TestNumberOfQubits(n: Int) : Unit {\n",
    "\n",
    "    use qubits = Qubit[n];\n",
    "    for index in 0 .. 128 {\n",
    "        for qubit in qubits {\n",
    "            H(qubit);\n",
    "        }\n",
    "    }\n",
    "\n",
    "    for qubit in qubits {\n",
    "            Reset(qubit);\n",
    "    }\n",
    "}"
   ]
  },
  {
   "cell_type": "code",
   "execution_count": 3,
   "metadata": {},
   "outputs": [
    {
     "data": {
      "application/x-qsharp-data": "{\"@type\":\"tuple\"}",
      "text/plain": [
       "()"
      ]
     },
     "execution_count": 3,
     "metadata": {},
     "output_type": "execute_result"
    }
   ],
   "source": [
    "%simulate TestNumberOfQubits n=30"
   ]
  },
  {
   "cell_type": "code",
   "execution_count": null,
   "metadata": {},
   "outputs": [],
   "source": [
    "operation TestDepthOfCircuit(n: Int) : Unit {\n",
    "\n",
    "    use qubits = Qubit[4];\n",
    "    for index in 0 .. 128 {\n",
    "        for qubit in qubits {\n",
    "            for i in 0 .. n {\n",
    "                H(qubit);\n",
    "            }\n",
    "        }\n",
    "    }\n",
    "\n",
    "    for qubit in qubits {\n",
    "            Reset(qubit);\n",
    "    }\n",
    "}"
   ]
  },
  {
   "cell_type": "code",
   "execution_count": null,
   "metadata": {},
   "outputs": [],
   "source": [
    "%simulate TestDepthOfCircuit n=30"
   ]
  }
 ],
 "metadata": {
  "interpreter": {
   "hash": "c523e1e93c438d1ed9e42e0fa5199f37335649bc4cc7ede703399c53fdf39345"
  },
  "kernelspec": {
   "display_name": "Q#",
   "language": "qsharp",
   "name": "iqsharp"
  },
  "language_info": {
   "file_extension": ".qs",
   "mimetype": "text/x-qsharp",
   "name": "qsharp",
   "version": "0.24"
  }
 },
 "nbformat": 4,
 "nbformat_minor": 2
}

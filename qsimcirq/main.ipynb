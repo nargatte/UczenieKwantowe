{
 "cells": [
  {
   "cell_type": "code",
   "execution_count": 1,
   "metadata": {},
   "outputs": [
    {
     "name": "stdout",
     "output_type": "stream",
     "text": [
      "Circuit:\n",
      "0: ───H───@───\n",
      "          │\n",
      "1: ───────X───\n",
      "\n",
      "Cirq results:\n",
      "measurements: (no measurements)\n",
      "\n",
      "qubits: (cirq.LineQubit(0), cirq.LineQubit(1))\n",
      "output vector: 0.707|00⟩ + 0.707|11⟩\n",
      "\n",
      "phase:\n",
      "output vector: |⟩\n",
      "\n",
      "qsim results:\n",
      "measurements: (no measurements)\n",
      "output vector: 0.707|00⟩ + 0.707|11⟩\n"
     ]
    }
   ],
   "source": [
    "import cirq\n",
    "import qsimcirq\n",
    "\n",
    "# Define qubits and a short circuit.\n",
    "q0, q1 = cirq.LineQubit.range(2)\n",
    "circuit = cirq.Circuit(cirq.H(q0), cirq.CX(q0, q1))\n",
    "print(\"Circuit:\")\n",
    "print(circuit)\n",
    "print()\n",
    "\n",
    "# Simulate the circuit with Cirq and return the full state vector.\n",
    "print('Cirq results:')\n",
    "cirq_simulator = cirq.Simulator()\n",
    "cirq_results = cirq_simulator.simulate(circuit)\n",
    "print(cirq_results)\n",
    "print()\n",
    "\n",
    "# Simulate the circuit with qsim and return the full state vector.\n",
    "print('qsim results:')\n",
    "qsim_simulator = qsimcirq.QSimSimulator()\n",
    "qsim_results = qsim_simulator.simulate(circuit)\n",
    "print(qsim_results)"
   ]
  },
  {
   "cell_type": "code",
   "execution_count": 2,
   "metadata": {},
   "outputs": [
    {
     "name": "stdout",
     "output_type": "stream",
     "text": [
      "[[1 1]\n",
      " [1 1]\n",
      " [0 0]\n",
      " [0 0]\n",
      " [0 0]\n",
      " [0 0]\n",
      " [1 1]\n",
      " [0 0]\n",
      " [0 0]\n",
      " [0 0]]\n"
     ]
    }
   ],
   "source": [
    "samples = cirq.sample_state_vector(\n",
    "    qsim_results.state_vector(), indices=[0, 1], repetitions=10)\n",
    "print(samples)"
   ]
  },
  {
   "cell_type": "code",
   "execution_count": 3,
   "metadata": {},
   "outputs": [
    {
     "name": "stdout",
     "output_type": "stream",
     "text": [
      "Circuit:\n",
      "0: ───H───@───M('qubit_0')───\n",
      "          │\n",
      "1: ───X───X───M('qubit_1')───\n",
      "\n",
      "Cirq results:\n",
      "qubit_0=00111\n",
      "qubit_1=11000\n",
      "\n",
      "qsim results:\n",
      "qubit_0=01111\n",
      "qubit_1=10000\n"
     ]
    }
   ],
   "source": [
    "# Define a circuit with measurements.\n",
    "q0, q1 = cirq.LineQubit.range(2)\n",
    "circuit = cirq.Circuit(\n",
    "    cirq.H(q0), cirq.X(q1), cirq.CX(q0, q1),\n",
    "    cirq.measure(q0, key='qubit_0'),\n",
    "    cirq.measure(q1, key='qubit_1'),\n",
    ")\n",
    "print(\"Circuit:\")\n",
    "print(circuit)\n",
    "print()\n",
    "\n",
    "# Simulate the circuit with Cirq and return just the measurement values.\n",
    "print('Cirq results:')\n",
    "cirq_simulator = cirq.Simulator()\n",
    "cirq_results = cirq_simulator.run(circuit, repetitions=5)\n",
    "print(cirq_results)\n",
    "print()\n",
    "\n",
    "# Simulate the circuit with qsim and return just the measurement values.\n",
    "print('qsim results:')\n",
    "qsim_simulator = qsimcirq.QSimSimulator()\n",
    "qsim_results = qsim_simulator.run(circuit, repetitions=5)\n",
    "print(qsim_results)"
   ]
  },
  {
   "cell_type": "code",
   "execution_count": 4,
   "metadata": {},
   "outputs": [
    {
     "name": "stdout",
     "output_type": "stream",
     "text": [
      "Cirq runtime: 3.095048189163208 seconds.\n",
      "\n",
      "qsim runtime: 0.08838915824890137 seconds.\n"
     ]
    }
   ],
   "source": [
    "import time\n",
    "\n",
    "# Get a rectangular grid of qubits.\n",
    "qubits = cirq.GridQubit.rect(4, 5)\n",
    "\n",
    "# Generates a random circuit on the provided qubits.\n",
    "circuit = cirq.experiments.random_rotations_between_grid_interaction_layers_circuit(\n",
    "    qubits=qubits, depth=16)\n",
    "\n",
    "# Simulate the circuit with Cirq and print the runtime.\n",
    "cirq_simulator = cirq.Simulator()\n",
    "cirq_start = time.time()\n",
    "cirq_results = cirq_simulator.simulate(circuit)\n",
    "cirq_elapsed = time.time() - cirq_start\n",
    "print(f'Cirq runtime: {cirq_elapsed} seconds.')\n",
    "print()\n",
    "\n",
    "# Simulate the circuit with qsim and print the runtime.\n",
    "qsim_simulator = qsimcirq.QSimSimulator()\n",
    "qsim_start = time.time()\n",
    "qsim_results = qsim_simulator.simulate(circuit)\n",
    "qsim_elapsed = time.time() - qsim_start\n",
    "print(f'qsim runtime: {qsim_elapsed} seconds.')"
   ]
  },
  {
   "cell_type": "code",
   "execution_count": 5,
   "metadata": {},
   "outputs": [
    {
     "name": "stdout",
     "output_type": "stream",
     "text": [
      "qsim runtime: 0.039893388748168945 seconds.\n"
     ]
    }
   ],
   "source": [
    "# Use eight threads to parallelize simulation.\n",
    "options = {'t': 8}\n",
    "\n",
    "qsim_simulator = qsimcirq.QSimSimulator(options)\n",
    "qsim_start = time.time()\n",
    "qsim_results = qsim_simulator.simulate(circuit)\n",
    "qsim_elapsed = time.time() - qsim_start\n",
    "print(f'qsim runtime: {qsim_elapsed} seconds.')"
   ]
  },
  {
   "cell_type": "code",
   "execution_count": 125,
   "metadata": {},
   "outputs": [
    {
     "name": "stdout",
     "output_type": "stream",
     "text": [
      "2: 0.1874988079071045\n",
      "3: 0.20644831657409668\n",
      "4: 0.22838926315307617\n",
      "5: 0.25232458114624023\n",
      "6: 0.2652902603149414\n",
      "7: 0.2842395305633545\n",
      "8: 0.307178258895874\n",
      "9: 0.32172727584838867\n",
      "10: 0.33905553817749023\n",
      "11: 0.3670344352722168\n",
      "12: 0.38396263122558594\n",
      "13: 0.4009108543395996\n",
      "14: 0.42714643478393555\n",
      "15: 0.4576451778411865\n",
      "16: 0.5048532485961914\n",
      "17: 0.6017842292785645\n",
      "18: 0.7601807117462158\n",
      "19: 1.0343987941741943\n",
      "20: 1.9275481700897217\n",
      "21: 3.6496312618255615\n",
      "22: 7.031660795211792\n",
      "23: 13.907992362976074\n",
      "24: 28.469674348831177\n",
      "25: 56.71267890930176\n"
     ]
    }
   ],
   "source": [
    "def testByNumberOfqubits(noq):\n",
    "    qs = cirq.LineQubit.range(noq)\n",
    "    hs = [cirq.H(x) for x in qs]\n",
    "    ms = [cirq.measure(x) for x in qs]\n",
    "    circuit = cirq.Circuit(hs + ms)\n",
    "    qsim_simulator = qsimcirq.QSimSimulator()\n",
    "    start = time.time()\n",
    "    for _ in range(128):\n",
    "        results = qsim_simulator.simulate(circuit)\n",
    "    elapsed = time.time() - start\n",
    "    return(elapsed)\n",
    "\n",
    "for x in range(2,26):\n",
    "    a = testByNumberOfqubits(x)\n",
    "    print(f\"{x}: {a}\")"
   ]
  },
  {
   "cell_type": "code",
   "execution_count": 128,
   "metadata": {},
   "outputs": [
    {
     "name": "stdout",
     "output_type": "stream",
     "text": [
      "1: 0.2355022430419922\n",
      "3: 0.27062273025512695\n",
      "5: 0.31475186347961426\n",
      "7: 0.367006778717041\n",
      "9: 0.4085361957550049\n",
      "11: 0.44965219497680664\n",
      "13: 0.5005624294281006\n",
      "15: 0.537405252456665\n",
      "17: 0.5775527954101562\n",
      "19: 0.6255645751953125\n",
      "21: 0.6789026260375977\n",
      "23: 0.7146646976470947\n",
      "25: 0.760988712310791\n",
      "27: 0.8308513164520264\n",
      "29: 0.8796415328979492\n",
      "31: 0.9001069068908691\n",
      "33: 0.9682726860046387\n",
      "35: 0.9976630210876465\n",
      "37: 1.0380191802978516\n",
      "39: 1.0825088024139404\n"
     ]
    }
   ],
   "source": [
    "def testByDepth(depth):\n",
    "    qs = cirq.LineQubit.range(4)\n",
    "    hs = [cirq.H(x) for x in qs]\n",
    "    lhs = []\n",
    "    for _ in range(depth):\n",
    "        lhs = lhs + hs\n",
    "    ms = [cirq.measure(x) for x in qs]\n",
    "    circuit = cirq.Circuit(lhs + ms)\n",
    "    qsim_simulator = qsimcirq.QSimSimulator()\n",
    "    start = time.time()\n",
    "    for _ in range(128):\n",
    "        results = qsim_simulator.simulate(circuit)\n",
    "    elapsed = time.time() - start\n",
    "    return(elapsed)\n",
    "\n",
    "for x in range(1,40,2):\n",
    "    a = testByDepth(x)\n",
    "    print(f\"{x}: {a}\")"
   ]
  },
  {
   "cell_type": "code",
   "execution_count": 1,
   "metadata": {},
   "outputs": [
    {
     "ename": "KeyboardInterrupt",
     "evalue": "",
     "output_type": "error",
     "traceback": [
      "\u001b[1;31m---------------------------------------------------------------------------\u001b[0m",
      "\u001b[1;31mKeyboardInterrupt\u001b[0m                         Traceback (most recent call last)",
      "\u001b[1;32md:\\Projects\\UczenieKwantowe\\qsimcirq\\main.ipynb Cell 8'\u001b[0m in \u001b[0;36m<cell line: 1>\u001b[1;34m()\u001b[0m\n\u001b[1;32m----> <a href='vscode-notebook-cell:/d%3A/Projects/UczenieKwantowe/qsimcirq/main.ipynb#ch0000010?line=0'>1</a>\u001b[0m \u001b[39mimport\u001b[39;00m \u001b[39mtest\u001b[39;00m\n\u001b[0;32m      <a href='vscode-notebook-cell:/d%3A/Projects/UczenieKwantowe/qsimcirq/main.ipynb#ch0000010?line=1'>2</a>\u001b[0m test\u001b[39m.\u001b[39mtest(\u001b[39m200\u001b[39m,\u001b[39m1\u001b[39m,\u001b[39m30\u001b[39m,\u001b[39m5\u001b[39m)\n",
      "File \u001b[1;32md:\\Projects\\UczenieKwantowe\\qsimcirq\\test.py:1\u001b[0m, in \u001b[0;36m<module>\u001b[1;34m\u001b[0m\n\u001b[1;32m----> <a href='file:///d%3A/Projects/UczenieKwantowe/qsimcirq/test.py?line=0'>1</a>\u001b[0m \u001b[39mimport\u001b[39;00m \u001b[39mcirq\u001b[39;00m\n\u001b[0;32m      <a href='file:///d%3A/Projects/UczenieKwantowe/qsimcirq/test.py?line=1'>2</a>\u001b[0m \u001b[39mimport\u001b[39;00m \u001b[39mqsimcirq\u001b[39;00m\n\u001b[0;32m      <a href='file:///d%3A/Projects/UczenieKwantowe/qsimcirq/test.py?line=2'>3</a>\u001b[0m \u001b[39mimport\u001b[39;00m \u001b[39mtime\u001b[39;00m\n",
      "File \u001b[1;32mc:\\Users\\nargatte\\miniconda3\\envs\\qsimcirq\\lib\\site-packages\\cirq\\__init__.py:31\u001b[0m, in \u001b[0;36m<module>\u001b[1;34m\u001b[0m\n\u001b[0;32m     <a href='file:///c%3A/Users/nargatte/miniconda3/envs/qsimcirq/lib/site-packages/cirq/__init__.py?line=22'>23</a>\u001b[0m \u001b[39mfrom\u001b[39;00m \u001b[39mcirq\u001b[39;00m \u001b[39mimport\u001b[39;00m (\n\u001b[0;32m     <a href='file:///c%3A/Users/nargatte/miniconda3/envs/qsimcirq/lib/site-packages/cirq/__init__.py?line=23'>24</a>\u001b[0m     \u001b[39m# Low level\u001b[39;00m\n\u001b[0;32m     <a href='file:///c%3A/Users/nargatte/miniconda3/envs/qsimcirq/lib/site-packages/cirq/__init__.py?line=24'>25</a>\u001b[0m     _version,\n\u001b[0;32m     <a href='file:///c%3A/Users/nargatte/miniconda3/envs/qsimcirq/lib/site-packages/cirq/__init__.py?line=25'>26</a>\u001b[0m     _doc,\n\u001b[0;32m     <a href='file:///c%3A/Users/nargatte/miniconda3/envs/qsimcirq/lib/site-packages/cirq/__init__.py?line=26'>27</a>\u001b[0m     type_workarounds,\n\u001b[0;32m     <a href='file:///c%3A/Users/nargatte/miniconda3/envs/qsimcirq/lib/site-packages/cirq/__init__.py?line=27'>28</a>\u001b[0m )\n\u001b[0;32m     <a href='file:///c%3A/Users/nargatte/miniconda3/envs/qsimcirq/lib/site-packages/cirq/__init__.py?line=29'>30</a>\u001b[0m \u001b[39mwith\u001b[39;00m _import\u001b[39m.\u001b[39mdelay_import(\u001b[39m'\u001b[39m\u001b[39mcirq.protocols\u001b[39m\u001b[39m'\u001b[39m):\n\u001b[1;32m---> <a href='file:///c%3A/Users/nargatte/miniconda3/envs/qsimcirq/lib/site-packages/cirq/__init__.py?line=30'>31</a>\u001b[0m     \u001b[39mfrom\u001b[39;00m \u001b[39mcirq\u001b[39;00m \u001b[39mimport\u001b[39;00m (\n\u001b[0;32m     <a href='file:///c%3A/Users/nargatte/miniconda3/envs/qsimcirq/lib/site-packages/cirq/__init__.py?line=31'>32</a>\u001b[0m         \u001b[39m# Core\u001b[39;00m\n\u001b[0;32m     <a href='file:///c%3A/Users/nargatte/miniconda3/envs/qsimcirq/lib/site-packages/cirq/__init__.py?line=32'>33</a>\u001b[0m         protocols,\n\u001b[0;32m     <a href='file:///c%3A/Users/nargatte/miniconda3/envs/qsimcirq/lib/site-packages/cirq/__init__.py?line=33'>34</a>\u001b[0m         value,\n\u001b[0;32m     <a href='file:///c%3A/Users/nargatte/miniconda3/envs/qsimcirq/lib/site-packages/cirq/__init__.py?line=34'>35</a>\u001b[0m         linalg,\n\u001b[0;32m     <a href='file:///c%3A/Users/nargatte/miniconda3/envs/qsimcirq/lib/site-packages/cirq/__init__.py?line=35'>36</a>\u001b[0m         qis,\n\u001b[0;32m     <a href='file:///c%3A/Users/nargatte/miniconda3/envs/qsimcirq/lib/site-packages/cirq/__init__.py?line=36'>37</a>\u001b[0m         ops,\n\u001b[0;32m     <a href='file:///c%3A/Users/nargatte/miniconda3/envs/qsimcirq/lib/site-packages/cirq/__init__.py?line=37'>38</a>\u001b[0m         devices,\n\u001b[0;32m     <a href='file:///c%3A/Users/nargatte/miniconda3/envs/qsimcirq/lib/site-packages/cirq/__init__.py?line=38'>39</a>\u001b[0m         study,\n\u001b[0;32m     <a href='file:///c%3A/Users/nargatte/miniconda3/envs/qsimcirq/lib/site-packages/cirq/__init__.py?line=39'>40</a>\u001b[0m     )\n\u001b[0;32m     <a href='file:///c%3A/Users/nargatte/miniconda3/envs/qsimcirq/lib/site-packages/cirq/__init__.py?line=40'>41</a>\u001b[0m \u001b[39mfrom\u001b[39;00m \u001b[39mcirq\u001b[39;00m \u001b[39mimport\u001b[39;00m (\n\u001b[0;32m     <a href='file:///c%3A/Users/nargatte/miniconda3/envs/qsimcirq/lib/site-packages/cirq/__init__.py?line=41'>42</a>\u001b[0m     \u001b[39m# Core\u001b[39;00m\n\u001b[0;32m     <a href='file:///c%3A/Users/nargatte/miniconda3/envs/qsimcirq/lib/site-packages/cirq/__init__.py?line=42'>43</a>\u001b[0m     circuits,\n\u001b[1;32m   (...)\u001b[0m\n\u001b[0;32m     <a href='file:///c%3A/Users/nargatte/miniconda3/envs/qsimcirq/lib/site-packages/cirq/__init__.py?line=55'>56</a>\u001b[0m     testing,\n\u001b[0;32m     <a href='file:///c%3A/Users/nargatte/miniconda3/envs/qsimcirq/lib/site-packages/cirq/__init__.py?line=56'>57</a>\u001b[0m )\n\u001b[0;32m     <a href='file:///c%3A/Users/nargatte/miniconda3/envs/qsimcirq/lib/site-packages/cirq/__init__.py?line=58'>59</a>\u001b[0m \u001b[39m# End dependency order list of sub-modules\u001b[39;00m\n",
      "File \u001b[1;32mc:\\Users\\nargatte\\miniconda3\\envs\\qsimcirq\\lib\\site-packages\\cirq\\linalg\\__init__.py:28\u001b[0m, in \u001b[0;36m<module>\u001b[1;34m\u001b[0m\n\u001b[0;32m     <a href='file:///c%3A/Users/nargatte/miniconda3/envs/qsimcirq/lib/site-packages/cirq/linalg/__init__.py?line=13'>14</a>\u001b[0m \u001b[39m\"\"\"Linear algebra methods and classes useful for quantum primitives.\u001b[39;00m\n\u001b[0;32m     <a href='file:///c%3A/Users/nargatte/miniconda3/envs/qsimcirq/lib/site-packages/cirq/linalg/__init__.py?line=14'>15</a>\u001b[0m \n\u001b[0;32m     <a href='file:///c%3A/Users/nargatte/miniconda3/envs/qsimcirq/lib/site-packages/cirq/linalg/__init__.py?line=15'>16</a>\u001b[0m \u001b[39mFocuses on methods useful for analyzing and optimizing quantum circuits.\u001b[39;00m\n\u001b[0;32m     <a href='file:///c%3A/Users/nargatte/miniconda3/envs/qsimcirq/lib/site-packages/cirq/linalg/__init__.py?line=16'>17</a>\u001b[0m \u001b[39mAvoids duplicating functionality present in numpy.\u001b[39;00m\n\u001b[0;32m     <a href='file:///c%3A/Users/nargatte/miniconda3/envs/qsimcirq/lib/site-packages/cirq/linalg/__init__.py?line=17'>18</a>\u001b[0m \u001b[39m\"\"\"\u001b[39;00m\n\u001b[0;32m     <a href='file:///c%3A/Users/nargatte/miniconda3/envs/qsimcirq/lib/site-packages/cirq/linalg/__init__.py?line=19'>20</a>\u001b[0m \u001b[39mfrom\u001b[39;00m \u001b[39mcirq\u001b[39;00m\u001b[39m.\u001b[39;00m\u001b[39mlinalg\u001b[39;00m\u001b[39m.\u001b[39;00m\u001b[39mcombinators\u001b[39;00m \u001b[39mimport\u001b[39;00m (\n\u001b[0;32m     <a href='file:///c%3A/Users/nargatte/miniconda3/envs/qsimcirq/lib/site-packages/cirq/linalg/__init__.py?line=20'>21</a>\u001b[0m     block_diag,\n\u001b[0;32m     <a href='file:///c%3A/Users/nargatte/miniconda3/envs/qsimcirq/lib/site-packages/cirq/linalg/__init__.py?line=21'>22</a>\u001b[0m     CONTROL_TAG,\n\u001b[1;32m   (...)\u001b[0m\n\u001b[0;32m     <a href='file:///c%3A/Users/nargatte/miniconda3/envs/qsimcirq/lib/site-packages/cirq/linalg/__init__.py?line=24'>25</a>\u001b[0m     kron_with_controls,\n\u001b[0;32m     <a href='file:///c%3A/Users/nargatte/miniconda3/envs/qsimcirq/lib/site-packages/cirq/linalg/__init__.py?line=25'>26</a>\u001b[0m )\n\u001b[1;32m---> <a href='file:///c%3A/Users/nargatte/miniconda3/envs/qsimcirq/lib/site-packages/cirq/linalg/__init__.py?line=27'>28</a>\u001b[0m \u001b[39mfrom\u001b[39;00m \u001b[39mcirq\u001b[39;00m\u001b[39m.\u001b[39;00m\u001b[39mlinalg\u001b[39;00m\u001b[39m.\u001b[39;00m\u001b[39mdecompositions\u001b[39;00m \u001b[39mimport\u001b[39;00m (\n\u001b[0;32m     <a href='file:///c%3A/Users/nargatte/miniconda3/envs/qsimcirq/lib/site-packages/cirq/linalg/__init__.py?line=28'>29</a>\u001b[0m     axis_angle,\n\u001b[0;32m     <a href='file:///c%3A/Users/nargatte/miniconda3/envs/qsimcirq/lib/site-packages/cirq/linalg/__init__.py?line=29'>30</a>\u001b[0m     AxisAngleDecomposition,\n\u001b[0;32m     <a href='file:///c%3A/Users/nargatte/miniconda3/envs/qsimcirq/lib/site-packages/cirq/linalg/__init__.py?line=30'>31</a>\u001b[0m     deconstruct_single_qubit_matrix_into_angles,\n\u001b[0;32m     <a href='file:///c%3A/Users/nargatte/miniconda3/envs/qsimcirq/lib/site-packages/cirq/linalg/__init__.py?line=31'>32</a>\u001b[0m     extract_right_diag,\n\u001b[0;32m     <a href='file:///c%3A/Users/nargatte/miniconda3/envs/qsimcirq/lib/site-packages/cirq/linalg/__init__.py?line=32'>33</a>\u001b[0m     kak_canonicalize_vector,\n\u001b[0;32m     <a href='file:///c%3A/Users/nargatte/miniconda3/envs/qsimcirq/lib/site-packages/cirq/linalg/__init__.py?line=33'>34</a>\u001b[0m     kak_decomposition,\n\u001b[0;32m     <a href='file:///c%3A/Users/nargatte/miniconda3/envs/qsimcirq/lib/site-packages/cirq/linalg/__init__.py?line=34'>35</a>\u001b[0m     kak_vector,\n\u001b[0;32m     <a href='file:///c%3A/Users/nargatte/miniconda3/envs/qsimcirq/lib/site-packages/cirq/linalg/__init__.py?line=35'>36</a>\u001b[0m     KakDecomposition,\n\u001b[0;32m     <a href='file:///c%3A/Users/nargatte/miniconda3/envs/qsimcirq/lib/site-packages/cirq/linalg/__init__.py?line=36'>37</a>\u001b[0m     kron_factor_4x4_to_2x2s,\n\u001b[0;32m     <a href='file:///c%3A/Users/nargatte/miniconda3/envs/qsimcirq/lib/site-packages/cirq/linalg/__init__.py?line=37'>38</a>\u001b[0m     map_eigenvalues,\n\u001b[0;32m     <a href='file:///c%3A/Users/nargatte/miniconda3/envs/qsimcirq/lib/site-packages/cirq/linalg/__init__.py?line=38'>39</a>\u001b[0m     num_cnots_required,\n\u001b[0;32m     <a href='file:///c%3A/Users/nargatte/miniconda3/envs/qsimcirq/lib/site-packages/cirq/linalg/__init__.py?line=39'>40</a>\u001b[0m     unitary_eig,\n\u001b[0;32m     <a href='file:///c%3A/Users/nargatte/miniconda3/envs/qsimcirq/lib/site-packages/cirq/linalg/__init__.py?line=40'>41</a>\u001b[0m     scatter_plot_normalized_kak_interaction_coefficients,\n\u001b[0;32m     <a href='file:///c%3A/Users/nargatte/miniconda3/envs/qsimcirq/lib/site-packages/cirq/linalg/__init__.py?line=41'>42</a>\u001b[0m     so4_to_magic_su2s,\n\u001b[0;32m     <a href='file:///c%3A/Users/nargatte/miniconda3/envs/qsimcirq/lib/site-packages/cirq/linalg/__init__.py?line=42'>43</a>\u001b[0m )\n\u001b[0;32m     <a href='file:///c%3A/Users/nargatte/miniconda3/envs/qsimcirq/lib/site-packages/cirq/linalg/__init__.py?line=45'>46</a>\u001b[0m \u001b[39mfrom\u001b[39;00m \u001b[39mcirq\u001b[39;00m\u001b[39m.\u001b[39;00m\u001b[39mlinalg\u001b[39;00m\u001b[39m.\u001b[39;00m\u001b[39mdiagonalize\u001b[39;00m \u001b[39mimport\u001b[39;00m (\n\u001b[0;32m     <a href='file:///c%3A/Users/nargatte/miniconda3/envs/qsimcirq/lib/site-packages/cirq/linalg/__init__.py?line=46'>47</a>\u001b[0m     bidiagonalize_real_matrix_pair_with_symmetric_products,\n\u001b[0;32m     <a href='file:///c%3A/Users/nargatte/miniconda3/envs/qsimcirq/lib/site-packages/cirq/linalg/__init__.py?line=47'>48</a>\u001b[0m     bidiagonalize_unitary_with_special_orthogonals,\n\u001b[0;32m     <a href='file:///c%3A/Users/nargatte/miniconda3/envs/qsimcirq/lib/site-packages/cirq/linalg/__init__.py?line=48'>49</a>\u001b[0m     diagonalize_real_symmetric_and_sorted_diagonal_matrices,\n\u001b[0;32m     <a href='file:///c%3A/Users/nargatte/miniconda3/envs/qsimcirq/lib/site-packages/cirq/linalg/__init__.py?line=49'>50</a>\u001b[0m     diagonalize_real_symmetric_matrix,\n\u001b[0;32m     <a href='file:///c%3A/Users/nargatte/miniconda3/envs/qsimcirq/lib/site-packages/cirq/linalg/__init__.py?line=50'>51</a>\u001b[0m )\n\u001b[0;32m     <a href='file:///c%3A/Users/nargatte/miniconda3/envs/qsimcirq/lib/site-packages/cirq/linalg/__init__.py?line=52'>53</a>\u001b[0m \u001b[39mfrom\u001b[39;00m \u001b[39mcirq\u001b[39;00m\u001b[39m.\u001b[39;00m\u001b[39mlinalg\u001b[39;00m\u001b[39m.\u001b[39;00m\u001b[39moperator_spaces\u001b[39;00m \u001b[39mimport\u001b[39;00m (\n\u001b[0;32m     <a href='file:///c%3A/Users/nargatte/miniconda3/envs/qsimcirq/lib/site-packages/cirq/linalg/__init__.py?line=53'>54</a>\u001b[0m     expand_matrix_in_orthogonal_basis,\n\u001b[0;32m     <a href='file:///c%3A/Users/nargatte/miniconda3/envs/qsimcirq/lib/site-packages/cirq/linalg/__init__.py?line=54'>55</a>\u001b[0m     hilbert_schmidt_inner_product,\n\u001b[1;32m   (...)\u001b[0m\n\u001b[0;32m     <a href='file:///c%3A/Users/nargatte/miniconda3/envs/qsimcirq/lib/site-packages/cirq/linalg/__init__.py?line=58'>59</a>\u001b[0m     pow_pauli_combination,\n\u001b[0;32m     <a href='file:///c%3A/Users/nargatte/miniconda3/envs/qsimcirq/lib/site-packages/cirq/linalg/__init__.py?line=59'>60</a>\u001b[0m )\n",
      "File \u001b[1;32mc:\\Users\\nargatte\\miniconda3\\envs\\qsimcirq\\lib\\site-packages\\cirq\\linalg\\decompositions.py:34\u001b[0m, in \u001b[0;36m<module>\u001b[1;34m\u001b[0m\n\u001b[0;32m     <a href='file:///c%3A/Users/nargatte/miniconda3/envs/qsimcirq/lib/site-packages/cirq/linalg/decompositions.py?line=18'>19</a>\u001b[0m \u001b[39mimport\u001b[39;00m \u001b[39mmath\u001b[39;00m\n\u001b[0;32m     <a href='file:///c%3A/Users/nargatte/miniconda3/envs/qsimcirq/lib/site-packages/cirq/linalg/decompositions.py?line=19'>20</a>\u001b[0m \u001b[39mfrom\u001b[39;00m \u001b[39mtyping\u001b[39;00m \u001b[39mimport\u001b[39;00m (\n\u001b[0;32m     <a href='file:///c%3A/Users/nargatte/miniconda3/envs/qsimcirq/lib/site-packages/cirq/linalg/decompositions.py?line=20'>21</a>\u001b[0m     Any,\n\u001b[0;32m     <a href='file:///c%3A/Users/nargatte/miniconda3/envs/qsimcirq/lib/site-packages/cirq/linalg/decompositions.py?line=21'>22</a>\u001b[0m     Callable,\n\u001b[1;32m   (...)\u001b[0m\n\u001b[0;32m     <a href='file:///c%3A/Users/nargatte/miniconda3/envs/qsimcirq/lib/site-packages/cirq/linalg/decompositions.py?line=30'>31</a>\u001b[0m     Union,\n\u001b[0;32m     <a href='file:///c%3A/Users/nargatte/miniconda3/envs/qsimcirq/lib/site-packages/cirq/linalg/decompositions.py?line=31'>32</a>\u001b[0m )\n\u001b[1;32m---> <a href='file:///c%3A/Users/nargatte/miniconda3/envs/qsimcirq/lib/site-packages/cirq/linalg/decompositions.py?line=33'>34</a>\u001b[0m \u001b[39mimport\u001b[39;00m \u001b[39mmatplotlib\u001b[39;00m\u001b[39m.\u001b[39;00m\u001b[39mpyplot\u001b[39;00m \u001b[39mas\u001b[39;00m \u001b[39mplt\u001b[39;00m\n\u001b[0;32m     <a href='file:///c%3A/Users/nargatte/miniconda3/envs/qsimcirq/lib/site-packages/cirq/linalg/decompositions.py?line=35'>36</a>\u001b[0m \u001b[39m# this is for older systems with matplotlib <3.2 otherwise 3d projections fail\u001b[39;00m\n\u001b[0;32m     <a href='file:///c%3A/Users/nargatte/miniconda3/envs/qsimcirq/lib/site-packages/cirq/linalg/decompositions.py?line=36'>37</a>\u001b[0m \u001b[39mfrom\u001b[39;00m \u001b[39mmpl_toolkits\u001b[39;00m \u001b[39mimport\u001b[39;00m mplot3d  \u001b[39m# pylint: disable=unused-import\u001b[39;00m\n",
      "File \u001b[1;32mc:\\Users\\nargatte\\miniconda3\\envs\\qsimcirq\\lib\\site-packages\\matplotlib\\pyplot.py:57\u001b[0m, in \u001b[0;36m<module>\u001b[1;34m\u001b[0m\n\u001b[0;32m     <a href='file:///c%3A/Users/nargatte/miniconda3/envs/qsimcirq/lib/site-packages/matplotlib/pyplot.py?line=54'>55</a>\u001b[0m \u001b[39mfrom\u001b[39;00m \u001b[39mmatplotlib\u001b[39;00m \u001b[39mimport\u001b[39;00m docstring\n\u001b[0;32m     <a href='file:///c%3A/Users/nargatte/miniconda3/envs/qsimcirq/lib/site-packages/matplotlib/pyplot.py?line=55'>56</a>\u001b[0m \u001b[39mfrom\u001b[39;00m \u001b[39mmatplotlib\u001b[39;00m\u001b[39m.\u001b[39;00m\u001b[39mbackend_bases\u001b[39;00m \u001b[39mimport\u001b[39;00m FigureCanvasBase, MouseButton\n\u001b[1;32m---> <a href='file:///c%3A/Users/nargatte/miniconda3/envs/qsimcirq/lib/site-packages/matplotlib/pyplot.py?line=56'>57</a>\u001b[0m \u001b[39mfrom\u001b[39;00m \u001b[39mmatplotlib\u001b[39;00m\u001b[39m.\u001b[39;00m\u001b[39mfigure\u001b[39;00m \u001b[39mimport\u001b[39;00m Figure, figaspect\n\u001b[0;32m     <a href='file:///c%3A/Users/nargatte/miniconda3/envs/qsimcirq/lib/site-packages/matplotlib/pyplot.py?line=57'>58</a>\u001b[0m \u001b[39mfrom\u001b[39;00m \u001b[39mmatplotlib\u001b[39;00m\u001b[39m.\u001b[39;00m\u001b[39mgridspec\u001b[39;00m \u001b[39mimport\u001b[39;00m GridSpec, SubplotSpec\n\u001b[0;32m     <a href='file:///c%3A/Users/nargatte/miniconda3/envs/qsimcirq/lib/site-packages/matplotlib/pyplot.py?line=58'>59</a>\u001b[0m \u001b[39mfrom\u001b[39;00m \u001b[39mmatplotlib\u001b[39;00m \u001b[39mimport\u001b[39;00m rcParams, rcParamsDefault, get_backend, rcParamsOrig\n",
      "File \u001b[1;32mc:\\Users\\nargatte\\miniconda3\\envs\\qsimcirq\\lib\\site-packages\\matplotlib\\figure.py:25\u001b[0m, in \u001b[0;36m<module>\u001b[1;34m\u001b[0m\n\u001b[0;32m     <a href='file:///c%3A/Users/nargatte/miniconda3/envs/qsimcirq/lib/site-packages/matplotlib/figure.py?line=21'>22</a>\u001b[0m \u001b[39mimport\u001b[39;00m \u001b[39mnumpy\u001b[39;00m \u001b[39mas\u001b[39;00m \u001b[39mnp\u001b[39;00m\n\u001b[0;32m     <a href='file:///c%3A/Users/nargatte/miniconda3/envs/qsimcirq/lib/site-packages/matplotlib/figure.py?line=23'>24</a>\u001b[0m \u001b[39mimport\u001b[39;00m \u001b[39mmatplotlib\u001b[39;00m \u001b[39mas\u001b[39;00m \u001b[39mmpl\u001b[39;00m\n\u001b[1;32m---> <a href='file:///c%3A/Users/nargatte/miniconda3/envs/qsimcirq/lib/site-packages/matplotlib/figure.py?line=24'>25</a>\u001b[0m \u001b[39mfrom\u001b[39;00m \u001b[39mmatplotlib\u001b[39;00m \u001b[39mimport\u001b[39;00m _blocking_input, docstring, projections\n\u001b[0;32m     <a href='file:///c%3A/Users/nargatte/miniconda3/envs/qsimcirq/lib/site-packages/matplotlib/figure.py?line=25'>26</a>\u001b[0m \u001b[39mfrom\u001b[39;00m \u001b[39mmatplotlib\u001b[39;00m\u001b[39m.\u001b[39;00m\u001b[39martist\u001b[39;00m \u001b[39mimport\u001b[39;00m (\n\u001b[0;32m     <a href='file:///c%3A/Users/nargatte/miniconda3/envs/qsimcirq/lib/site-packages/matplotlib/figure.py?line=26'>27</a>\u001b[0m     Artist, allow_rasterization, _finalize_rasterization)\n\u001b[0;32m     <a href='file:///c%3A/Users/nargatte/miniconda3/envs/qsimcirq/lib/site-packages/matplotlib/figure.py?line=27'>28</a>\u001b[0m \u001b[39mfrom\u001b[39;00m \u001b[39mmatplotlib\u001b[39;00m\u001b[39m.\u001b[39;00m\u001b[39mbackend_bases\u001b[39;00m \u001b[39mimport\u001b[39;00m (\n\u001b[0;32m     <a href='file:///c%3A/Users/nargatte/miniconda3/envs/qsimcirq/lib/site-packages/matplotlib/figure.py?line=28'>29</a>\u001b[0m     FigureCanvasBase, NonGuiException, MouseButton, _get_renderer)\n",
      "File \u001b[1;32mc:\\Users\\nargatte\\miniconda3\\envs\\qsimcirq\\lib\\site-packages\\matplotlib\\projections\\__init__.py:55\u001b[0m, in \u001b[0;36m<module>\u001b[1;34m\u001b[0m\n\u001b[0;32m      <a href='file:///c%3A/Users/nargatte/miniconda3/envs/qsimcirq/lib/site-packages/matplotlib/projections/__init__.py?line=0'>1</a>\u001b[0m \u001b[39m\"\"\"\u001b[39;00m\n\u001b[0;32m      <a href='file:///c%3A/Users/nargatte/miniconda3/envs/qsimcirq/lib/site-packages/matplotlib/projections/__init__.py?line=1'>2</a>\u001b[0m \u001b[39mNon-separable transforms that map from data space to screen space.\u001b[39;00m\n\u001b[0;32m      <a href='file:///c%3A/Users/nargatte/miniconda3/envs/qsimcirq/lib/site-packages/matplotlib/projections/__init__.py?line=2'>3</a>\u001b[0m \n\u001b[1;32m   (...)\u001b[0m\n\u001b[0;32m     <a href='file:///c%3A/Users/nargatte/miniconda3/envs/qsimcirq/lib/site-packages/matplotlib/projections/__init__.py?line=51'>52</a>\u001b[0m \u001b[39m`matplotlib.projections.polar` may also be of interest.\u001b[39;00m\n\u001b[0;32m     <a href='file:///c%3A/Users/nargatte/miniconda3/envs/qsimcirq/lib/site-packages/matplotlib/projections/__init__.py?line=52'>53</a>\u001b[0m \u001b[39m\"\"\"\u001b[39;00m\n\u001b[1;32m---> <a href='file:///c%3A/Users/nargatte/miniconda3/envs/qsimcirq/lib/site-packages/matplotlib/projections/__init__.py?line=54'>55</a>\u001b[0m \u001b[39mfrom\u001b[39;00m \u001b[39m.\u001b[39;00m\u001b[39m.\u001b[39;00m \u001b[39mimport\u001b[39;00m axes, docstring\n\u001b[0;32m     <a href='file:///c%3A/Users/nargatte/miniconda3/envs/qsimcirq/lib/site-packages/matplotlib/projections/__init__.py?line=55'>56</a>\u001b[0m \u001b[39mfrom\u001b[39;00m \u001b[39m.\u001b[39;00m\u001b[39mgeo\u001b[39;00m \u001b[39mimport\u001b[39;00m AitoffAxes, HammerAxes, LambertAxes, MollweideAxes\n\u001b[0;32m     <a href='file:///c%3A/Users/nargatte/miniconda3/envs/qsimcirq/lib/site-packages/matplotlib/projections/__init__.py?line=56'>57</a>\u001b[0m \u001b[39mfrom\u001b[39;00m \u001b[39m.\u001b[39;00m\u001b[39mpolar\u001b[39;00m \u001b[39mimport\u001b[39;00m PolarAxes\n",
      "File \u001b[1;32mc:\\Users\\nargatte\\miniconda3\\envs\\qsimcirq\\lib\\site-packages\\matplotlib\\axes\\__init__.py:1\u001b[0m, in \u001b[0;36m<module>\u001b[1;34m\u001b[0m\n\u001b[1;32m----> <a href='file:///c%3A/Users/nargatte/miniconda3/envs/qsimcirq/lib/site-packages/matplotlib/axes/__init__.py?line=0'>1</a>\u001b[0m \u001b[39mfrom\u001b[39;00m \u001b[39m.\u001b[39;00m\u001b[39m_subplots\u001b[39;00m \u001b[39mimport\u001b[39;00m \u001b[39m*\u001b[39m\n\u001b[0;32m      <a href='file:///c%3A/Users/nargatte/miniconda3/envs/qsimcirq/lib/site-packages/matplotlib/axes/__init__.py?line=1'>2</a>\u001b[0m \u001b[39mfrom\u001b[39;00m \u001b[39m.\u001b[39;00m\u001b[39m_axes\u001b[39;00m \u001b[39mimport\u001b[39;00m \u001b[39m*\u001b[39m\n",
      "File \u001b[1;32mc:\\Users\\nargatte\\miniconda3\\envs\\qsimcirq\\lib\\site-packages\\matplotlib\\axes\\_subplots.py:4\u001b[0m, in \u001b[0;36m<module>\u001b[1;34m\u001b[0m\n\u001b[0;32m      <a href='file:///c%3A/Users/nargatte/miniconda3/envs/qsimcirq/lib/site-packages/matplotlib/axes/_subplots.py?line=1'>2</a>\u001b[0m \u001b[39mfrom\u001b[39;00m \u001b[39mmatplotlib\u001b[39;00m \u001b[39mimport\u001b[39;00m _api, cbook\n\u001b[0;32m      <a href='file:///c%3A/Users/nargatte/miniconda3/envs/qsimcirq/lib/site-packages/matplotlib/axes/_subplots.py?line=2'>3</a>\u001b[0m \u001b[39mfrom\u001b[39;00m \u001b[39mmatplotlib\u001b[39;00m\u001b[39m.\u001b[39;00m\u001b[39maxes\u001b[39;00m\u001b[39m.\u001b[39;00m\u001b[39m_axes\u001b[39;00m \u001b[39mimport\u001b[39;00m Axes\n\u001b[1;32m----> <a href='file:///c%3A/Users/nargatte/miniconda3/envs/qsimcirq/lib/site-packages/matplotlib/axes/_subplots.py?line=3'>4</a>\u001b[0m \u001b[39mfrom\u001b[39;00m \u001b[39mmatplotlib\u001b[39;00m\u001b[39m.\u001b[39;00m\u001b[39mgridspec\u001b[39;00m \u001b[39mimport\u001b[39;00m GridSpec, SubplotSpec\n\u001b[0;32m      <a href='file:///c%3A/Users/nargatte/miniconda3/envs/qsimcirq/lib/site-packages/matplotlib/axes/_subplots.py?line=6'>7</a>\u001b[0m \u001b[39mclass\u001b[39;00m \u001b[39mSubplotBase\u001b[39;00m:\n\u001b[0;32m      <a href='file:///c%3A/Users/nargatte/miniconda3/envs/qsimcirq/lib/site-packages/matplotlib/axes/_subplots.py?line=7'>8</a>\u001b[0m     \u001b[39m\"\"\"\u001b[39;00m\n\u001b[0;32m      <a href='file:///c%3A/Users/nargatte/miniconda3/envs/qsimcirq/lib/site-packages/matplotlib/axes/_subplots.py?line=8'>9</a>\u001b[0m \u001b[39m    Base class for subplots, which are :class:`Axes` instances with\u001b[39;00m\n\u001b[0;32m     <a href='file:///c%3A/Users/nargatte/miniconda3/envs/qsimcirq/lib/site-packages/matplotlib/axes/_subplots.py?line=9'>10</a>\u001b[0m \u001b[39m    additional methods to facilitate generating and manipulating a set\u001b[39;00m\n\u001b[0;32m     <a href='file:///c%3A/Users/nargatte/miniconda3/envs/qsimcirq/lib/site-packages/matplotlib/axes/_subplots.py?line=10'>11</a>\u001b[0m \u001b[39m    of :class:`Axes` within a figure.\u001b[39;00m\n\u001b[0;32m     <a href='file:///c%3A/Users/nargatte/miniconda3/envs/qsimcirq/lib/site-packages/matplotlib/axes/_subplots.py?line=11'>12</a>\u001b[0m \u001b[39m    \"\"\"\u001b[39;00m\n",
      "File \u001b[1;32mc:\\Users\\nargatte\\miniconda3\\envs\\qsimcirq\\lib\\site-packages\\matplotlib\\gridspec.py:21\u001b[0m, in \u001b[0;36m<module>\u001b[1;34m\u001b[0m\n\u001b[0;32m     <a href='file:///c%3A/Users/nargatte/miniconda3/envs/qsimcirq/lib/site-packages/matplotlib/gridspec.py?line=17'>18</a>\u001b[0m \u001b[39mimport\u001b[39;00m \u001b[39mnumpy\u001b[39;00m \u001b[39mas\u001b[39;00m \u001b[39mnp\u001b[39;00m\n\u001b[0;32m     <a href='file:///c%3A/Users/nargatte/miniconda3/envs/qsimcirq/lib/site-packages/matplotlib/gridspec.py?line=19'>20</a>\u001b[0m \u001b[39mimport\u001b[39;00m \u001b[39mmatplotlib\u001b[39;00m \u001b[39mas\u001b[39;00m \u001b[39mmpl\u001b[39;00m\n\u001b[1;32m---> <a href='file:///c%3A/Users/nargatte/miniconda3/envs/qsimcirq/lib/site-packages/matplotlib/gridspec.py?line=20'>21</a>\u001b[0m \u001b[39mfrom\u001b[39;00m \u001b[39mmatplotlib\u001b[39;00m \u001b[39mimport\u001b[39;00m _api, _pylab_helpers, tight_layout, rcParams\n\u001b[0;32m     <a href='file:///c%3A/Users/nargatte/miniconda3/envs/qsimcirq/lib/site-packages/matplotlib/gridspec.py?line=21'>22</a>\u001b[0m \u001b[39mfrom\u001b[39;00m \u001b[39mmatplotlib\u001b[39;00m\u001b[39m.\u001b[39;00m\u001b[39mtransforms\u001b[39;00m \u001b[39mimport\u001b[39;00m Bbox\n\u001b[0;32m     <a href='file:///c%3A/Users/nargatte/miniconda3/envs/qsimcirq/lib/site-packages/matplotlib/gridspec.py?line=23'>24</a>\u001b[0m _log \u001b[39m=\u001b[39m logging\u001b[39m.\u001b[39mgetLogger(\u001b[39m__name__\u001b[39m)\n",
      "File \u001b[1;32mc:\\Users\\nargatte\\miniconda3\\envs\\qsimcirq\\lib\\site-packages\\matplotlib\\tight_layout.py:164\u001b[0m, in \u001b[0;36m<module>\u001b[1;34m\u001b[0m\n\u001b[0;32m    <a href='file:///c%3A/Users/nargatte/miniconda3/envs/qsimcirq/lib/site-packages/matplotlib/tight_layout.py?line=157'>158</a>\u001b[0m             kwargs[\u001b[39m\"\u001b[39m\u001b[39mhspace\u001b[39m\u001b[39m\"\u001b[39m] \u001b[39m=\u001b[39m vspace \u001b[39m/\u001b[39m v_axes\n\u001b[0;32m    <a href='file:///c%3A/Users/nargatte/miniconda3/envs/qsimcirq/lib/site-packages/matplotlib/tight_layout.py?line=159'>160</a>\u001b[0m     \u001b[39mreturn\u001b[39;00m kwargs\n\u001b[0;32m    <a href='file:///c%3A/Users/nargatte/miniconda3/envs/qsimcirq/lib/site-packages/matplotlib/tight_layout.py?line=162'>163</a>\u001b[0m \u001b[39m@_api\u001b[39;49m\u001b[39m.\u001b[39;49mdeprecated(\u001b[39m\"\u001b[39;49m\u001b[39m3.5\u001b[39;49m\u001b[39m\"\u001b[39;49m)\n\u001b[1;32m--> <a href='file:///c%3A/Users/nargatte/miniconda3/envs/qsimcirq/lib/site-packages/matplotlib/tight_layout.py?line=163'>164</a>\u001b[0m \u001b[39mdef\u001b[39;49;00m \u001b[39mauto_adjust_subplotpars\u001b[39;49m(\n\u001b[0;32m    <a href='file:///c%3A/Users/nargatte/miniconda3/envs/qsimcirq/lib/site-packages/matplotlib/tight_layout.py?line=164'>165</a>\u001b[0m         fig, renderer, nrows_ncols, num1num2_list, subplot_list,\n\u001b[0;32m    <a href='file:///c%3A/Users/nargatte/miniconda3/envs/qsimcirq/lib/site-packages/matplotlib/tight_layout.py?line=165'>166</a>\u001b[0m         ax_bbox_list\u001b[39m=\u001b[39;49m\u001b[39mNone\u001b[39;49;00m, pad\u001b[39m=\u001b[39;49m\u001b[39m1.08\u001b[39;49m, h_pad\u001b[39m=\u001b[39;49m\u001b[39mNone\u001b[39;49;00m, w_pad\u001b[39m=\u001b[39;49m\u001b[39mNone\u001b[39;49;00m, rect\u001b[39m=\u001b[39;49m\u001b[39mNone\u001b[39;49;00m):\n\u001b[0;32m    <a href='file:///c%3A/Users/nargatte/miniconda3/envs/qsimcirq/lib/site-packages/matplotlib/tight_layout.py?line=166'>167</a>\u001b[0m     \u001b[39m\"\"\"\u001b[39;49;00m\n\u001b[0;32m    <a href='file:///c%3A/Users/nargatte/miniconda3/envs/qsimcirq/lib/site-packages/matplotlib/tight_layout.py?line=167'>168</a>\u001b[0m \u001b[39m    Return a dict of subplot parameters to adjust spacing between subplots\u001b[39;49;00m\n\u001b[0;32m    <a href='file:///c%3A/Users/nargatte/miniconda3/envs/qsimcirq/lib/site-packages/matplotlib/tight_layout.py?line=168'>169</a>\u001b[0m \u001b[39m    or ``None`` if resulting axes would have zero height or width.\u001b[39;49;00m\n\u001b[1;32m   (...)\u001b[0m\n\u001b[0;32m    <a href='file:///c%3A/Users/nargatte/miniconda3/envs/qsimcirq/lib/site-packages/matplotlib/tight_layout.py?line=190'>191</a>\u001b[0m \u001b[39m        [left, bottom, right, top] in normalized (0, 1) figure coordinates.\u001b[39;49;00m\n\u001b[0;32m    <a href='file:///c%3A/Users/nargatte/miniconda3/envs/qsimcirq/lib/site-packages/matplotlib/tight_layout.py?line=191'>192</a>\u001b[0m \u001b[39m    \"\"\"\u001b[39;49;00m\n\u001b[0;32m    <a href='file:///c%3A/Users/nargatte/miniconda3/envs/qsimcirq/lib/site-packages/matplotlib/tight_layout.py?line=192'>193</a>\u001b[0m     nrows, ncols \u001b[39m=\u001b[39;49m nrows_ncols\n",
      "File \u001b[1;32mc:\\Users\\nargatte\\miniconda3\\envs\\qsimcirq\\lib\\site-packages\\matplotlib\\_api\\deprecation.py:223\u001b[0m, in \u001b[0;36mdeprecated.<locals>.deprecate\u001b[1;34m(obj, message, name, alternative, pending, obj_type, addendum)\u001b[0m\n\u001b[0;32m    <a href='file:///c%3A/Users/nargatte/miniconda3/envs/qsimcirq/lib/site-packages/matplotlib/_api/deprecation.py?line=217'>218</a>\u001b[0m \u001b[39mif\u001b[39;00m \u001b[39mnot\u001b[39;00m old_doc:\n\u001b[0;32m    <a href='file:///c%3A/Users/nargatte/miniconda3/envs/qsimcirq/lib/site-packages/matplotlib/_api/deprecation.py?line=218'>219</a>\u001b[0m     \u001b[39m# This is to prevent a spurious 'unexpected unindent' warning from\u001b[39;00m\n\u001b[0;32m    <a href='file:///c%3A/Users/nargatte/miniconda3/envs/qsimcirq/lib/site-packages/matplotlib/_api/deprecation.py?line=219'>220</a>\u001b[0m     \u001b[39m# docutils when the original docstring was blank.\u001b[39;00m\n\u001b[0;32m    <a href='file:///c%3A/Users/nargatte/miniconda3/envs/qsimcirq/lib/site-packages/matplotlib/_api/deprecation.py?line=220'>221</a>\u001b[0m     new_doc \u001b[39m+\u001b[39m\u001b[39m=\u001b[39m \u001b[39mr\u001b[39m\u001b[39m'\u001b[39m\u001b[39m\\\u001b[39m\u001b[39m \u001b[39m\u001b[39m'\u001b[39m\n\u001b[1;32m--> <a href='file:///c%3A/Users/nargatte/miniconda3/envs/qsimcirq/lib/site-packages/matplotlib/_api/deprecation.py?line=222'>223</a>\u001b[0m \u001b[39mreturn\u001b[39;00m finalize(wrapper, new_doc)\n",
      "File \u001b[1;32mc:\\Users\\nargatte\\miniconda3\\envs\\qsimcirq\\lib\\site-packages\\matplotlib\\_api\\deprecation.py:193\u001b[0m, in \u001b[0;36mdeprecated.<locals>.deprecate.<locals>.finalize\u001b[1;34m(wrapper, new_doc)\u001b[0m\n\u001b[0;32m    <a href='file:///c%3A/Users/nargatte/miniconda3/envs/qsimcirq/lib/site-packages/matplotlib/_api/deprecation.py?line=191'>192</a>\u001b[0m \u001b[39mdef\u001b[39;00m \u001b[39mfinalize\u001b[39m(wrapper, new_doc):\n\u001b[1;32m--> <a href='file:///c%3A/Users/nargatte/miniconda3/envs/qsimcirq/lib/site-packages/matplotlib/_api/deprecation.py?line=192'>193</a>\u001b[0m     wrapper \u001b[39m=\u001b[39m functools\u001b[39m.\u001b[39;49mwraps(func)(wrapper)\n\u001b[0;32m    <a href='file:///c%3A/Users/nargatte/miniconda3/envs/qsimcirq/lib/site-packages/matplotlib/_api/deprecation.py?line=193'>194</a>\u001b[0m     wrapper\u001b[39m.\u001b[39m\u001b[39m__doc__\u001b[39m \u001b[39m=\u001b[39m new_doc\n\u001b[0;32m    <a href='file:///c%3A/Users/nargatte/miniconda3/envs/qsimcirq/lib/site-packages/matplotlib/_api/deprecation.py?line=194'>195</a>\u001b[0m     \u001b[39mreturn\u001b[39;00m wrapper\n",
      "File \u001b[1;32mc:\\Users\\nargatte\\miniconda3\\envs\\qsimcirq\\lib\\functools.py:58\u001b[0m, in \u001b[0;36mupdate_wrapper\u001b[1;34m(wrapper, wrapped, assigned, updated)\u001b[0m\n\u001b[0;32m     <a href='file:///c%3A/Users/nargatte/miniconda3/envs/qsimcirq/lib/functools.py?line=55'>56</a>\u001b[0m         \u001b[39msetattr\u001b[39m(wrapper, attr, value)\n\u001b[0;32m     <a href='file:///c%3A/Users/nargatte/miniconda3/envs/qsimcirq/lib/functools.py?line=56'>57</a>\u001b[0m \u001b[39mfor\u001b[39;00m attr \u001b[39min\u001b[39;00m updated:\n\u001b[1;32m---> <a href='file:///c%3A/Users/nargatte/miniconda3/envs/qsimcirq/lib/functools.py?line=57'>58</a>\u001b[0m     \u001b[39mgetattr\u001b[39;49m(wrapper, attr)\u001b[39m.\u001b[39;49mupdate(\u001b[39mgetattr\u001b[39;49m(wrapped, attr, {}))\n\u001b[0;32m     <a href='file:///c%3A/Users/nargatte/miniconda3/envs/qsimcirq/lib/functools.py?line=58'>59</a>\u001b[0m \u001b[39m# Issue #17482: set __wrapped__ last so we don't inadvertently copy it\u001b[39;00m\n\u001b[0;32m     <a href='file:///c%3A/Users/nargatte/miniconda3/envs/qsimcirq/lib/functools.py?line=59'>60</a>\u001b[0m \u001b[39m# from the wrapped function when updating __dict__\u001b[39;00m\n\u001b[0;32m     <a href='file:///c%3A/Users/nargatte/miniconda3/envs/qsimcirq/lib/functools.py?line=60'>61</a>\u001b[0m wrapper\u001b[39m.\u001b[39m__wrapped__ \u001b[39m=\u001b[39m wrapped\n",
      "\u001b[1;31mKeyboardInterrupt\u001b[0m: "
     ]
    }
   ],
   "source": [
    "import test\n",
    "test.test(200,1,30,5)"
   ]
  }
 ],
 "metadata": {
  "interpreter": {
   "hash": "90e90f2c7d143e1c1de44917e3f1b30aa6027f23e5a8af832e15b51224078cea"
  },
  "kernelspec": {
   "display_name": "Python 3.9.12 ('qsimcirq')",
   "language": "python",
   "name": "python3"
  },
  "language_info": {
   "codemirror_mode": {
    "name": "ipython",
    "version": 3
   },
   "file_extension": ".py",
   "mimetype": "text/x-python",
   "name": "python",
   "nbconvert_exporter": "python",
   "pygments_lexer": "ipython3",
   "version": "3.9.12"
  },
  "orig_nbformat": 4
 },
 "nbformat": 4,
 "nbformat_minor": 2
}

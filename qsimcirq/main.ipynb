{
 "cells": [
  {
   "cell_type": "code",
   "execution_count": 1,
   "metadata": {},
   "outputs": [
    {
     "name": "stdout",
     "output_type": "stream",
     "text": [
      "Circuit:\n",
      "0: ───H───@───\n",
      "          │\n",
      "1: ───────X───\n",
      "\n",
      "Cirq results:\n",
      "measurements: (no measurements)\n",
      "\n",
      "qubits: (cirq.LineQubit(0), cirq.LineQubit(1))\n",
      "output vector: 0.707|00⟩ + 0.707|11⟩\n",
      "\n",
      "phase:\n",
      "output vector: |⟩\n",
      "\n",
      "qsim results:\n",
      "measurements: (no measurements)\n",
      "output vector: 0.707|00⟩ + 0.707|11⟩\n"
     ]
    }
   ],
   "source": [
    "import cirq\n",
    "import qsimcirq\n",
    "\n",
    "# Define qubits and a short circuit.\n",
    "q0, q1 = cirq.LineQubit.range(2)\n",
    "circuit = cirq.Circuit(cirq.H(q0), cirq.CX(q0, q1))\n",
    "print(\"Circuit:\")\n",
    "print(circuit)\n",
    "print()\n",
    "\n",
    "# Simulate the circuit with Cirq and return the full state vector.\n",
    "print('Cirq results:')\n",
    "cirq_simulator = cirq.Simulator()\n",
    "cirq_results = cirq_simulator.simulate(circuit)\n",
    "print(cirq_results)\n",
    "print()\n",
    "\n",
    "# Simulate the circuit with qsim and return the full state vector.\n",
    "print('qsim results:')\n",
    "qsim_simulator = qsimcirq.QSimSimulator()\n",
    "qsim_results = qsim_simulator.simulate(circuit)\n",
    "print(qsim_results)"
   ]
  },
  {
   "cell_type": "code",
   "execution_count": 2,
   "metadata": {},
   "outputs": [
    {
     "name": "stdout",
     "output_type": "stream",
     "text": [
      "[[1 1]\n",
      " [1 1]\n",
      " [0 0]\n",
      " [0 0]\n",
      " [0 0]\n",
      " [0 0]\n",
      " [1 1]\n",
      " [0 0]\n",
      " [0 0]\n",
      " [0 0]]\n"
     ]
    }
   ],
   "source": [
    "samples = cirq.sample_state_vector(\n",
    "    qsim_results.state_vector(), indices=[0, 1], repetitions=10)\n",
    "print(samples)"
   ]
  },
  {
   "cell_type": "code",
   "execution_count": 3,
   "metadata": {},
   "outputs": [
    {
     "name": "stdout",
     "output_type": "stream",
     "text": [
      "Circuit:\n",
      "0: ───H───@───M('qubit_0')───\n",
      "          │\n",
      "1: ───X───X───M('qubit_1')───\n",
      "\n",
      "Cirq results:\n",
      "qubit_0=00111\n",
      "qubit_1=11000\n",
      "\n",
      "qsim results:\n",
      "qubit_0=01111\n",
      "qubit_1=10000\n"
     ]
    }
   ],
   "source": [
    "# Define a circuit with measurements.\n",
    "q0, q1 = cirq.LineQubit.range(2)\n",
    "circuit = cirq.Circuit(\n",
    "    cirq.H(q0), cirq.X(q1), cirq.CX(q0, q1),\n",
    "    cirq.measure(q0, key='qubit_0'),\n",
    "    cirq.measure(q1, key='qubit_1'),\n",
    ")\n",
    "print(\"Circuit:\")\n",
    "print(circuit)\n",
    "print()\n",
    "\n",
    "# Simulate the circuit with Cirq and return just the measurement values.\n",
    "print('Cirq results:')\n",
    "cirq_simulator = cirq.Simulator()\n",
    "cirq_results = cirq_simulator.run(circuit, repetitions=5)\n",
    "print(cirq_results)\n",
    "print()\n",
    "\n",
    "# Simulate the circuit with qsim and return just the measurement values.\n",
    "print('qsim results:')\n",
    "qsim_simulator = qsimcirq.QSimSimulator()\n",
    "qsim_results = qsim_simulator.run(circuit, repetitions=5)\n",
    "print(qsim_results)"
   ]
  },
  {
   "cell_type": "code",
   "execution_count": 4,
   "metadata": {},
   "outputs": [
    {
     "name": "stdout",
     "output_type": "stream",
     "text": [
      "Cirq runtime: 3.095048189163208 seconds.\n",
      "\n",
      "qsim runtime: 0.08838915824890137 seconds.\n"
     ]
    }
   ],
   "source": [
    "import time\n",
    "\n",
    "# Get a rectangular grid of qubits.\n",
    "qubits = cirq.GridQubit.rect(4, 5)\n",
    "\n",
    "# Generates a random circuit on the provided qubits.\n",
    "circuit = cirq.experiments.random_rotations_between_grid_interaction_layers_circuit(\n",
    "    qubits=qubits, depth=16)\n",
    "\n",
    "# Simulate the circuit with Cirq and print the runtime.\n",
    "cirq_simulator = cirq.Simulator()\n",
    "cirq_start = time.time()\n",
    "cirq_results = cirq_simulator.simulate(circuit)\n",
    "cirq_elapsed = time.time() - cirq_start\n",
    "print(f'Cirq runtime: {cirq_elapsed} seconds.')\n",
    "print()\n",
    "\n",
    "# Simulate the circuit with qsim and print the runtime.\n",
    "qsim_simulator = qsimcirq.QSimSimulator()\n",
    "qsim_start = time.time()\n",
    "qsim_results = qsim_simulator.simulate(circuit)\n",
    "qsim_elapsed = time.time() - qsim_start\n",
    "print(f'qsim runtime: {qsim_elapsed} seconds.')"
   ]
  },
  {
   "cell_type": "code",
   "execution_count": 5,
   "metadata": {},
   "outputs": [
    {
     "name": "stdout",
     "output_type": "stream",
     "text": [
      "qsim runtime: 0.039893388748168945 seconds.\n"
     ]
    }
   ],
   "source": [
    "# Use eight threads to parallelize simulation.\n",
    "options = {'t': 8}\n",
    "\n",
    "qsim_simulator = qsimcirq.QSimSimulator(options)\n",
    "qsim_start = time.time()\n",
    "qsim_results = qsim_simulator.simulate(circuit)\n",
    "qsim_elapsed = time.time() - qsim_start\n",
    "print(f'qsim runtime: {qsim_elapsed} seconds.')"
   ]
  },
  {
   "cell_type": "code",
   "execution_count": 125,
   "metadata": {},
   "outputs": [
    {
     "name": "stdout",
     "output_type": "stream",
     "text": [
      "2: 0.1874988079071045\n",
      "3: 0.20644831657409668\n",
      "4: 0.22838926315307617\n",
      "5: 0.25232458114624023\n",
      "6: 0.2652902603149414\n",
      "7: 0.2842395305633545\n",
      "8: 0.307178258895874\n",
      "9: 0.32172727584838867\n",
      "10: 0.33905553817749023\n",
      "11: 0.3670344352722168\n",
      "12: 0.38396263122558594\n",
      "13: 0.4009108543395996\n",
      "14: 0.42714643478393555\n",
      "15: 0.4576451778411865\n",
      "16: 0.5048532485961914\n",
      "17: 0.6017842292785645\n",
      "18: 0.7601807117462158\n",
      "19: 1.0343987941741943\n",
      "20: 1.9275481700897217\n",
      "21: 3.6496312618255615\n",
      "22: 7.031660795211792\n",
      "23: 13.907992362976074\n",
      "24: 28.469674348831177\n",
      "25: 56.71267890930176\n"
     ]
    }
   ],
   "source": [
    "def testByNumberOfqubits(noq):\n",
    "    qs = cirq.LineQubit.range(noq)\n",
    "    hs = [cirq.H(x) for x in qs]\n",
    "    ms = [cirq.measure(x) for x in qs]\n",
    "    circuit = cirq.Circuit(hs + ms)\n",
    "    qsim_simulator = qsimcirq.QSimSimulator()\n",
    "    start = time.time()\n",
    "    for _ in range(128):\n",
    "        results = qsim_simulator.simulate(circuit)\n",
    "    elapsed = time.time() - start\n",
    "    return(elapsed)\n",
    "\n",
    "for x in range(2,26):\n",
    "    a = testByNumberOfqubits(x)\n",
    "    print(f\"{x}: {a}\")"
   ]
  },
  {
   "cell_type": "code",
   "execution_count": 128,
   "metadata": {},
   "outputs": [
    {
     "name": "stdout",
     "output_type": "stream",
     "text": [
      "1: 0.2355022430419922\n",
      "3: 0.27062273025512695\n",
      "5: 0.31475186347961426\n",
      "7: 0.367006778717041\n",
      "9: 0.4085361957550049\n",
      "11: 0.44965219497680664\n",
      "13: 0.5005624294281006\n",
      "15: 0.537405252456665\n",
      "17: 0.5775527954101562\n",
      "19: 0.6255645751953125\n",
      "21: 0.6789026260375977\n",
      "23: 0.7146646976470947\n",
      "25: 0.760988712310791\n",
      "27: 0.8308513164520264\n",
      "29: 0.8796415328979492\n",
      "31: 0.9001069068908691\n",
      "33: 0.9682726860046387\n",
      "35: 0.9976630210876465\n",
      "37: 1.0380191802978516\n",
      "39: 1.0825088024139404\n"
     ]
    }
   ],
   "source": [
    "def testByDepth(depth):\n",
    "    qs = cirq.LineQubit.range(4)\n",
    "    hs = [cirq.H(x) for x in qs]\n",
    "    lhs = []\n",
    "    for _ in range(depth):\n",
    "        lhs = lhs + hs\n",
    "    ms = [cirq.measure(x) for x in qs]\n",
    "    circuit = cirq.Circuit(lhs + ms)\n",
    "    qsim_simulator = qsimcirq.QSimSimulator()\n",
    "    start = time.time()\n",
    "    for _ in range(128):\n",
    "        results = qsim_simulator.simulate(circuit)\n",
    "    elapsed = time.time() - start\n",
    "    return(elapsed)\n",
    "\n",
    "for x in range(1,40,2):\n",
    "    a = testByDepth(x)\n",
    "    print(f\"{x}: {a}\")"
   ]
  }
 ],
 "metadata": {
  "interpreter": {
   "hash": "90e90f2c7d143e1c1de44917e3f1b30aa6027f23e5a8af832e15b51224078cea"
  },
  "kernelspec": {
   "display_name": "Python 3.9.12 ('qsimcirq')",
   "language": "python",
   "name": "python3"
  },
  "language_info": {
   "codemirror_mode": {
    "name": "ipython",
    "version": 3
   },
   "file_extension": ".py",
   "mimetype": "text/x-python",
   "name": "python",
   "nbconvert_exporter": "python",
   "pygments_lexer": "ipython3",
   "version": "3.9.12"
  },
  "orig_nbformat": 4
 },
 "nbformat": 4,
 "nbformat_minor": 2
}

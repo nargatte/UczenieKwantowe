{
 "cells": [
  {
   "cell_type": "code",
   "execution_count": 77,
   "metadata": {},
   "outputs": [],
   "source": [
    "from quantuminspire.api import QuantumInspireAPI\n",
    "from quantuminspire.credentials import get_authentication\n",
    "from quantuminspire.credentials import save_account\n",
    "import math\n",
    "token = '381576af21478eb7800c534b6156a1b494023f00'\n",
    "save_account(token)\n",
    "\n",
    "server_url = r'https://api.quantum-inspire.com'\n",
    "authentication = get_authentication()\n",
    "qi = QuantumInspireAPI(server_url, authentication, 'SDK_test')"
   ]
  },
  {
   "cell_type": "code",
   "execution_count": 78,
   "metadata": {},
   "outputs": [],
   "source": [
    "# n = 2\n",
    "# qasm = f'''version 1.0\n",
    "\n",
    "# qubits {n}\n",
    "\n",
    "# H q[0:{n-1}]\n",
    "\n",
    "# Measure q[0,{n-1}]\n",
    "# '''"
   ]
  },
  {
   "cell_type": "markdown",
   "metadata": {},
   "source": [
    "# Test dla ilosci kubitów w rejestrze"
   ]
  },
  {
   "cell_type": "code",
   "execution_count": 79,
   "metadata": {},
   "outputs": [],
   "source": [
    "# backend_type = qi.get_backend_type_by_name('QX single-node simulator')\n",
    "\n",
    "# delta = math.floor((4096 - 16) / 10)\n",
    "# results = []\n",
    "\n",
    "# for i in range (2, 26):\n",
    "#     qasm = f'''version 1.0\n",
    "\n",
    "# qubits {i}\n",
    "\n",
    "# H q[0:{i-1}]\n",
    "\n",
    "# Measure q[0,{i-1}]\n",
    "# '''\n",
    "#     r = qi.execute_qasm(qasm, backend_type=backend_type, number_of_shots=128)\n",
    "#     results.append(r)\n",
    "#     time = r[\"execution_time_in_seconds\"]\n",
    "#     print(f\"kubits: {i}, shots: {128}, time: {time}\")"
   ]
  },
  {
   "cell_type": "markdown",
   "metadata": {},
   "source": [
    "# Test dla głębokości"
   ]
  },
  {
   "cell_type": "code",
   "execution_count": 80,
   "metadata": {},
   "outputs": [
    {
     "name": "stderr",
     "output_type": "stream",
     "text": [
      "Your experiment can not be optimized and may take longer to execute, see https://www.quantum-inspire.com/kbase/optimization-of-simulations/ for details.\n"
     ]
    },
    {
     "name": "stdout",
     "output_type": "stream",
     "text": [
      "glebokosc: 1, shots: 128, time: 2.5051462650299072\n"
     ]
    },
    {
     "name": "stderr",
     "output_type": "stream",
     "text": [
      "Your experiment can not be optimized and may take longer to execute, see https://www.quantum-inspire.com/kbase/optimization-of-simulations/ for details.\n"
     ]
    },
    {
     "name": "stdout",
     "output_type": "stream",
     "text": [
      "glebokosc: 3, shots: 128, time: 2.288729429244995\n"
     ]
    },
    {
     "name": "stderr",
     "output_type": "stream",
     "text": [
      "Your experiment can not be optimized and may take longer to execute, see https://www.quantum-inspire.com/kbase/optimization-of-simulations/ for details.\n"
     ]
    },
    {
     "name": "stdout",
     "output_type": "stream",
     "text": [
      "glebokosc: 5, shots: 128, time: 2.473963737487793\n"
     ]
    },
    {
     "name": "stderr",
     "output_type": "stream",
     "text": [
      "Your experiment can not be optimized and may take longer to execute, see https://www.quantum-inspire.com/kbase/optimization-of-simulations/ for details.\n"
     ]
    },
    {
     "name": "stdout",
     "output_type": "stream",
     "text": [
      "glebokosc: 7, shots: 128, time: 2.6597039699554443\n"
     ]
    },
    {
     "name": "stderr",
     "output_type": "stream",
     "text": [
      "Your experiment can not be optimized and may take longer to execute, see https://www.quantum-inspire.com/kbase/optimization-of-simulations/ for details.\n"
     ]
    },
    {
     "name": "stdout",
     "output_type": "stream",
     "text": [
      "glebokosc: 9, shots: 128, time: 2.505817413330078\n"
     ]
    },
    {
     "name": "stderr",
     "output_type": "stream",
     "text": [
      "Your experiment can not be optimized and may take longer to execute, see https://www.quantum-inspire.com/kbase/optimization-of-simulations/ for details.\n"
     ]
    },
    {
     "name": "stdout",
     "output_type": "stream",
     "text": [
      "glebokosc: 11, shots: 128, time: 2.5427467823028564\n"
     ]
    },
    {
     "name": "stderr",
     "output_type": "stream",
     "text": [
      "Your experiment can not be optimized and may take longer to execute, see https://www.quantum-inspire.com/kbase/optimization-of-simulations/ for details.\n"
     ]
    },
    {
     "name": "stdout",
     "output_type": "stream",
     "text": [
      "glebokosc: 13, shots: 128, time: 2.4928200244903564\n"
     ]
    },
    {
     "name": "stderr",
     "output_type": "stream",
     "text": [
      "Your experiment can not be optimized and may take longer to execute, see https://www.quantum-inspire.com/kbase/optimization-of-simulations/ for details.\n"
     ]
    },
    {
     "name": "stdout",
     "output_type": "stream",
     "text": [
      "glebokosc: 15, shots: 128, time: 2.7259976863861084\n"
     ]
    },
    {
     "name": "stderr",
     "output_type": "stream",
     "text": [
      "Your experiment can not be optimized and may take longer to execute, see https://www.quantum-inspire.com/kbase/optimization-of-simulations/ for details.\n"
     ]
    },
    {
     "name": "stdout",
     "output_type": "stream",
     "text": [
      "glebokosc: 17, shots: 128, time: 2.778240442276001\n"
     ]
    },
    {
     "name": "stderr",
     "output_type": "stream",
     "text": [
      "Your experiment can not be optimized and may take longer to execute, see https://www.quantum-inspire.com/kbase/optimization-of-simulations/ for details.\n"
     ]
    },
    {
     "name": "stdout",
     "output_type": "stream",
     "text": [
      "glebokosc: 19, shots: 128, time: 2.984724521636963\n"
     ]
    },
    {
     "name": "stderr",
     "output_type": "stream",
     "text": [
      "Your experiment can not be optimized and may take longer to execute, see https://www.quantum-inspire.com/kbase/optimization-of-simulations/ for details.\n"
     ]
    },
    {
     "name": "stdout",
     "output_type": "stream",
     "text": [
      "glebokosc: 21, shots: 128, time: 2.667769432067871\n"
     ]
    },
    {
     "name": "stderr",
     "output_type": "stream",
     "text": [
      "Your experiment can not be optimized and may take longer to execute, see https://www.quantum-inspire.com/kbase/optimization-of-simulations/ for details.\n"
     ]
    },
    {
     "name": "stdout",
     "output_type": "stream",
     "text": [
      "glebokosc: 23, shots: 128, time: 2.9643120765686035\n"
     ]
    },
    {
     "name": "stderr",
     "output_type": "stream",
     "text": [
      "Your experiment can not be optimized and may take longer to execute, see https://www.quantum-inspire.com/kbase/optimization-of-simulations/ for details.\n"
     ]
    },
    {
     "name": "stdout",
     "output_type": "stream",
     "text": [
      "glebokosc: 25, shots: 128, time: 2.8944790363311768\n"
     ]
    },
    {
     "name": "stderr",
     "output_type": "stream",
     "text": [
      "Your experiment can not be optimized and may take longer to execute, see https://www.quantum-inspire.com/kbase/optimization-of-simulations/ for details.\n"
     ]
    },
    {
     "name": "stdout",
     "output_type": "stream",
     "text": [
      "glebokosc: 27, shots: 128, time: 2.8211848735809326\n"
     ]
    },
    {
     "name": "stderr",
     "output_type": "stream",
     "text": [
      "Your experiment can not be optimized and may take longer to execute, see https://www.quantum-inspire.com/kbase/optimization-of-simulations/ for details.\n"
     ]
    },
    {
     "name": "stdout",
     "output_type": "stream",
     "text": [
      "glebokosc: 29, shots: 128, time: 2.9276247024536133\n"
     ]
    },
    {
     "name": "stderr",
     "output_type": "stream",
     "text": [
      "Your experiment can not be optimized and may take longer to execute, see https://www.quantum-inspire.com/kbase/optimization-of-simulations/ for details.\n"
     ]
    },
    {
     "name": "stdout",
     "output_type": "stream",
     "text": [
      "glebokosc: 31, shots: 128, time: 3.136988878250122\n"
     ]
    },
    {
     "name": "stderr",
     "output_type": "stream",
     "text": [
      "Your experiment can not be optimized and may take longer to execute, see https://www.quantum-inspire.com/kbase/optimization-of-simulations/ for details.\n"
     ]
    },
    {
     "name": "stdout",
     "output_type": "stream",
     "text": [
      "glebokosc: 33, shots: 128, time: 3.1043667793273926\n"
     ]
    },
    {
     "name": "stderr",
     "output_type": "stream",
     "text": [
      "Your experiment can not be optimized and may take longer to execute, see https://www.quantum-inspire.com/kbase/optimization-of-simulations/ for details.\n"
     ]
    },
    {
     "name": "stdout",
     "output_type": "stream",
     "text": [
      "glebokosc: 35, shots: 128, time: 3.1032493114471436\n"
     ]
    },
    {
     "name": "stderr",
     "output_type": "stream",
     "text": [
      "Your experiment can not be optimized and may take longer to execute, see https://www.quantum-inspire.com/kbase/optimization-of-simulations/ for details.\n"
     ]
    },
    {
     "name": "stdout",
     "output_type": "stream",
     "text": [
      "glebokosc: 37, shots: 128, time: 3.1379270553588867\n"
     ]
    },
    {
     "name": "stderr",
     "output_type": "stream",
     "text": [
      "Your experiment can not be optimized and may take longer to execute, see https://www.quantum-inspire.com/kbase/optimization-of-simulations/ for details.\n"
     ]
    },
    {
     "name": "stdout",
     "output_type": "stream",
     "text": [
      "glebokosc: 39, shots: 128, time: 3.5138754844665527\n"
     ]
    }
   ],
   "source": [
    "# backend_type = qi.get_backend_type_by_name('QX single-node simulator')\n",
    "# results = []\n",
    "\n",
    "# for i in range (20):\n",
    "#     qasm = 'version 1.0 \\nqubits 4 \\nH q[0:3] \\n'\n",
    "#     for n in range (2*i):\n",
    "#         qasm = f\"{qasm}H q[0:3] \\n\"\n",
    "#     qasm = f\"{qasm}Measure q[0:3]\"\n",
    "#     r = qi.execute_qasm(qasm, backend_type=backend_type, number_of_shots=128)\n",
    "#     results.append(r)\n",
    "#     time = r[\"execution_time_in_seconds\"]\n",
    "#     print(f\"glebokosc: {2*i+1}, shots: {128}, time: {time}\")"
   ]
  }
 ],
 "metadata": {
  "interpreter": {
   "hash": "5e015df5753948877de2af01852a9f6be015f71b5569a2b33f9da42b072848b8"
  },
  "kernelspec": {
   "display_name": "Python 3.9.7 64-bit",
   "language": "python",
   "name": "python3"
  },
  "language_info": {
   "codemirror_mode": {
    "name": "ipython",
    "version": 3
   },
   "file_extension": ".py",
   "mimetype": "text/x-python",
   "name": "python",
   "nbconvert_exporter": "python",
   "pygments_lexer": "ipython3",
   "version": "3.9.7"
  },
  "orig_nbformat": 4
 },
 "nbformat": 4,
 "nbformat_minor": 2
}
